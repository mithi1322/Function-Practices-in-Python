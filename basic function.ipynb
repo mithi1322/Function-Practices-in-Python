{
 "cells": [
  {
   "cell_type": "code",
   "execution_count": 1,
   "id": "3c449afb-98eb-438d-be62-3f04b231c9a6",
   "metadata": {},
   "outputs": [
    {
     "name": "stdout",
     "output_type": "stream",
     "text": [
      "this is my print\n"
     ]
    }
   ],
   "source": [
    "print(\"this is my print\")"
   ]
  },
  {
   "cell_type": "code",
   "execution_count": 2,
   "id": "327dcd8b-55ce-4c7d-8167-3559f64386b6",
   "metadata": {},
   "outputs": [],
   "source": [
    "l=[21,21,44,5]"
   ]
  },
  {
   "cell_type": "code",
   "execution_count": 4,
   "id": "19f5f66b-7b58-470d-8cc4-fc96dbc69284",
   "metadata": {},
   "outputs": [
    {
     "data": {
      "text/plain": [
       "4"
      ]
     },
     "execution_count": 4,
     "metadata": {},
     "output_type": "execute_result"
    }
   ],
   "source": [
    "len(l)"
   ]
  },
  {
   "cell_type": "code",
   "execution_count": 5,
   "id": "99b755b0-4c58-4392-8c7b-cafcee74e5f4",
   "metadata": {},
   "outputs": [
    {
     "data": {
      "text/plain": [
       "list"
      ]
     },
     "execution_count": 5,
     "metadata": {},
     "output_type": "execute_result"
    }
   ],
   "source": [
    "type(l)"
   ]
  },
  {
   "cell_type": "markdown",
   "id": "e96ac25f-f621-4b35-8c12-d5cdc71318be",
   "metadata": {},
   "source": [
    "above function are inbuilt function"
   ]
  },
  {
   "cell_type": "code",
   "execution_count": 6,
   "id": "435d057e-7779-4293-9731-175e13d6db80",
   "metadata": {},
   "outputs": [],
   "source": [
    "def test():\n",
    "    pass"
   ]
  },
  {
   "cell_type": "code",
   "execution_count": 7,
   "id": "70d68ff4-0714-4a84-8840-a55eacf492e8",
   "metadata": {},
   "outputs": [],
   "source": [
    "def test1():\n",
    "    print(\"this is my first function class\")\n",
    "    "
   ]
  },
  {
   "cell_type": "code",
   "execution_count": 8,
   "id": "cba73c6b-4521-438f-a48b-88ae59e83b44",
   "metadata": {},
   "outputs": [
    {
     "name": "stdout",
     "output_type": "stream",
     "text": [
      "this is my first function class\n"
     ]
    }
   ],
   "source": [
    "test1()"
   ]
  },
  {
   "cell_type": "code",
   "execution_count": 9,
   "id": "add3ec32-f4b7-49a3-85ae-0a6fea2b9561",
   "metadata": {},
   "outputs": [
    {
     "name": "stdout",
     "output_type": "stream",
     "text": [
      "this is my first function class\n"
     ]
    },
    {
     "ename": "TypeError",
     "evalue": "unsupported operand type(s) for +: 'NoneType' and 'str'",
     "output_type": "error",
     "traceback": [
      "\u001b[0;31m---------------------------------------------------------------------------\u001b[0m",
      "\u001b[0;31mTypeError\u001b[0m                                 Traceback (most recent call last)",
      "Cell \u001b[0;32mIn[9], line 1\u001b[0m\n\u001b[0;32m----> 1\u001b[0m \u001b[43mtest1\u001b[49m\u001b[43m(\u001b[49m\u001b[43m)\u001b[49m\u001b[38;5;241;43m+\u001b[39;49m\u001b[38;5;124;43m\"\u001b[39;49m\u001b[38;5;124;43mmithi\u001b[39;49m\u001b[38;5;124;43m\"\u001b[39;49m\n",
      "\u001b[0;31mTypeError\u001b[0m: unsupported operand type(s) for +: 'NoneType' and 'str'"
     ]
    }
   ],
   "source": [
    "test1()+\"mithi\""
   ]
  },
  {
   "cell_type": "code",
   "execution_count": 10,
   "id": "6a431dc4-adea-44b7-bf76-0e2e9fe00c3c",
   "metadata": {},
   "outputs": [],
   "source": [
    "def test2():\n",
    "    return \"Mithi\",23,34,121.2,[2,4,24]"
   ]
  },
  {
   "cell_type": "code",
   "execution_count": 11,
   "id": "efcee2b7-64bd-40eb-8a59-e56d334db503",
   "metadata": {},
   "outputs": [
    {
     "data": {
      "text/plain": [
       "('Mithi', 23, 34, 121.2, [2, 4, 24])"
      ]
     },
     "execution_count": 11,
     "metadata": {},
     "output_type": "execute_result"
    }
   ],
   "source": [
    "test2()"
   ]
  },
  {
   "cell_type": "code",
   "execution_count": 20,
   "id": "ae166945-022c-4f53-adb9-61fea4df4c3c",
   "metadata": {},
   "outputs": [],
   "source": [
    "a,b,c,d,e=test2()"
   ]
  },
  {
   "cell_type": "code",
   "execution_count": 21,
   "id": "0a4917f5-ac28-40d0-92b8-d4444359148b",
   "metadata": {},
   "outputs": [
    {
     "data": {
      "text/plain": [
       "'Mithi'"
      ]
     },
     "execution_count": 21,
     "metadata": {},
     "output_type": "execute_result"
    }
   ],
   "source": [
    "a"
   ]
  },
  {
   "cell_type": "code",
   "execution_count": 22,
   "id": "336424f9-d8e3-4121-8c3f-7b1330f7175d",
   "metadata": {},
   "outputs": [
    {
     "data": {
      "text/plain": [
       "23"
      ]
     },
     "execution_count": 22,
     "metadata": {},
     "output_type": "execute_result"
    }
   ],
   "source": [
    "b"
   ]
  },
  {
   "cell_type": "code",
   "execution_count": 23,
   "id": "10f44f53-4816-429a-81bb-4aafc3e92aab",
   "metadata": {},
   "outputs": [
    {
     "data": {
      "text/plain": [
       "34"
      ]
     },
     "execution_count": 23,
     "metadata": {},
     "output_type": "execute_result"
    }
   ],
   "source": [
    "c"
   ]
  },
  {
   "cell_type": "code",
   "execution_count": 24,
   "id": "189e1ef4-6708-4672-b3af-51d6b30ebc89",
   "metadata": {},
   "outputs": [
    {
     "data": {
      "text/plain": [
       "121.2"
      ]
     },
     "execution_count": 24,
     "metadata": {},
     "output_type": "execute_result"
    }
   ],
   "source": [
    "d"
   ]
  },
  {
   "cell_type": "code",
   "execution_count": 25,
   "id": "9b9f1fc8-1e45-4657-abc8-48840ecd03da",
   "metadata": {},
   "outputs": [
    {
     "data": {
      "text/plain": [
       "[2, 4, 24]"
      ]
     },
     "execution_count": 25,
     "metadata": {},
     "output_type": "execute_result"
    }
   ],
   "source": [
    "e"
   ]
  },
  {
   "cell_type": "code",
   "execution_count": 26,
   "id": "c84eb900-a7d0-4b97-9c65-9fbb2457c6db",
   "metadata": {},
   "outputs": [],
   "source": [
    "a=1\n",
    "b=1\n",
    "a,b=1,2"
   ]
  },
  {
   "cell_type": "code",
   "execution_count": 27,
   "id": "04711ee4-eed5-4e6b-8b30-8f4b2865b11a",
   "metadata": {},
   "outputs": [],
   "source": [
    "def test3():\n",
    "    a=288+213/78\n",
    "    return a"
   ]
  },
  {
   "cell_type": "code",
   "execution_count": 28,
   "id": "844c9ab7-c249-430c-919c-e2062d586c66",
   "metadata": {},
   "outputs": [
    {
     "data": {
      "text/plain": [
       "290.7307692307692"
      ]
     },
     "execution_count": 28,
     "metadata": {},
     "output_type": "execute_result"
    }
   ],
   "source": [
    "test3()"
   ]
  },
  {
   "cell_type": "code",
   "execution_count": 29,
   "id": "f6481294-b654-4523-a227-96bff2a664a3",
   "metadata": {},
   "outputs": [],
   "source": [
    "def test4(a,b,c):\n",
    "    d=a+b/c\n",
    "    return d\n",
    "    "
   ]
  },
  {
   "cell_type": "code",
   "execution_count": 30,
   "id": "9e21f294-9ce9-420f-a2fd-c39ef1801c06",
   "metadata": {},
   "outputs": [
    {
     "ename": "TypeError",
     "evalue": "test4() missing 3 required positional arguments: 'a', 'b', and 'c'",
     "output_type": "error",
     "traceback": [
      "\u001b[0;31m---------------------------------------------------------------------------\u001b[0m",
      "\u001b[0;31mTypeError\u001b[0m                                 Traceback (most recent call last)",
      "Cell \u001b[0;32mIn[30], line 1\u001b[0m\n\u001b[0;32m----> 1\u001b[0m \u001b[43mtest4\u001b[49m\u001b[43m(\u001b[49m\u001b[43m)\u001b[49m\n",
      "\u001b[0;31mTypeError\u001b[0m: test4() missing 3 required positional arguments: 'a', 'b', and 'c'"
     ]
    }
   ],
   "source": [
    "test4()"
   ]
  },
  {
   "cell_type": "code",
   "execution_count": 33,
   "id": "ca6875e7-66f0-4378-bd14-b19eab269cec",
   "metadata": {},
   "outputs": [
    {
     "data": {
      "text/plain": [
       "2.8"
      ]
     },
     "execution_count": 33,
     "metadata": {},
     "output_type": "execute_result"
    }
   ],
   "source": [
    "test4(2,4,5)"
   ]
  },
  {
   "cell_type": "code",
   "execution_count": 34,
   "id": "abdc5996-8892-404d-b7ea-64b935d8699f",
   "metadata": {},
   "outputs": [],
   "source": [
    "def test5(a,b):\n",
    "    return a+b"
   ]
  },
  {
   "cell_type": "code",
   "execution_count": 35,
   "id": "1b5bd1cc-7e0a-49a2-a78a-afce49656bd6",
   "metadata": {},
   "outputs": [
    {
     "data": {
      "text/plain": [
       "8"
      ]
     },
     "execution_count": 35,
     "metadata": {},
     "output_type": "execute_result"
    }
   ],
   "source": [
    "test5(3,5)"
   ]
  },
  {
   "cell_type": "code",
   "execution_count": 37,
   "id": "c045b9d0-da87-41f0-b99b-7012dc90bcd1",
   "metadata": {},
   "outputs": [
    {
     "data": {
      "text/plain": [
       "'mithilesh Jaiswal'"
      ]
     },
     "execution_count": 37,
     "metadata": {},
     "output_type": "execute_result"
    }
   ],
   "source": [
    "test5(\"mithilesh\",\" Jaiswal\")"
   ]
  },
  {
   "cell_type": "code",
   "execution_count": 38,
   "id": "30865322-bf4f-4535-8fac-81b9814119d9",
   "metadata": {},
   "outputs": [
    {
     "data": {
      "text/plain": [
       "[2, 23, 4, 5, 5, 42, 45]"
      ]
     },
     "execution_count": 38,
     "metadata": {},
     "output_type": "execute_result"
    }
   ],
   "source": [
    "test5([2,23,4,5,5],[42,45])"
   ]
  },
  {
   "cell_type": "code",
   "execution_count": 39,
   "id": "93c2ba44-fb39-42e6-a33f-2a032c503fc3",
   "metadata": {},
   "outputs": [],
   "source": [
    "l=[23,4,23,3,\"Mithi\",\"kumar\",[2,3,4,1,5]]"
   ]
  },
  {
   "cell_type": "code",
   "execution_count": 41,
   "id": "4f835214-ec7b-4426-a70e-6dfe38a8c1f8",
   "metadata": {},
   "outputs": [],
   "source": [
    "l1=[]\n",
    "for i in l:\n",
    "    if type(i) == int or type(i)== float:\n",
    "        l1.append(i)"
   ]
  },
  {
   "cell_type": "code",
   "execution_count": 42,
   "id": "54426592-b774-4756-9539-953d6faf3956",
   "metadata": {},
   "outputs": [
    {
     "data": {
      "text/plain": [
       "[23, 4, 23, 3]"
      ]
     },
     "execution_count": 42,
     "metadata": {},
     "output_type": "execute_result"
    }
   ],
   "source": [
    "l1"
   ]
  },
  {
   "cell_type": "code",
   "execution_count": 47,
   "id": "392eb2a4-b7b1-422c-bf90-c68dbfaa8ec1",
   "metadata": {},
   "outputs": [],
   "source": [
    "def test6():\n",
    "    l1=[]\n",
    "    for i in l:\n",
    "        if type(i) == int or type(i)== float:\n",
    "             l1.append(i)\n",
    "    return l1"
   ]
  },
  {
   "cell_type": "code",
   "execution_count": 48,
   "id": "633deea0-3f14-4180-a172-eb27acd4265a",
   "metadata": {},
   "outputs": [
    {
     "data": {
      "text/plain": [
       "[23, 4, 23, 3]"
      ]
     },
     "execution_count": 48,
     "metadata": {},
     "output_type": "execute_result"
    }
   ],
   "source": [
    "test6()"
   ]
  },
  {
   "cell_type": "code",
   "execution_count": 55,
   "id": "9c91e55c-d8d7-4439-9736-226e291f5964",
   "metadata": {},
   "outputs": [],
   "source": [
    "def test7(a):\n",
    "    l2=[]\n",
    "    for i in a:\n",
    "        if type(i)==list:\n",
    "            for j in i:\n",
    "                l2.append(j)\n",
    "        else:\n",
    "            if type(i)== int or type(i)== float:\n",
    "                l2.append(i)\n",
    "                \n",
    "    return l2        \n",
    "                \n",
    "        \n",
    "            "
   ]
  },
  {
   "cell_type": "code",
   "execution_count": 56,
   "id": "6a860bea-e9d4-402e-8d34-c375fd017c52",
   "metadata": {},
   "outputs": [
    {
     "data": {
      "text/plain": [
       "[23, 4, 23, 3, 2, 3, 4, 1, 5]"
      ]
     },
     "execution_count": 56,
     "metadata": {},
     "output_type": "execute_result"
    }
   ],
   "source": [
    "test7(l)"
   ]
  },
  {
   "cell_type": "code",
   "execution_count": 57,
   "id": "dacc3bdf-9a0c-42d9-a7de-7d08d6889824",
   "metadata": {},
   "outputs": [
    {
     "data": {
      "text/plain": [
       "[23, 4, 23, 3, 'Mithi', 'kumar', [2, 3, 4, 1, 5]]"
      ]
     },
     "execution_count": 57,
     "metadata": {},
     "output_type": "execute_result"
    }
   ],
   "source": [
    "l"
   ]
  },
  {
   "cell_type": "code",
   "execution_count": 59,
   "id": "a8aa67a1-d911-408d-8cff-8f03dbf517f1",
   "metadata": {},
   "outputs": [],
   "source": [
    "def test8(a):\n",
    "    \"\"\"this is function to finding numeric data from list\"\"\"\n",
    "    l2=[]\n",
    "    for i in a:\n",
    "        if type(i)==list:\n",
    "            for j in i:\n",
    "                l2.append(j)\n",
    "        else:\n",
    "            if type(i)== int or type(i)== float:\n",
    "                l2.append(i)\n",
    "                \n",
    "    return l2        \n",
    "                \n",
    "        \n",
    "            "
   ]
  },
  {
   "cell_type": "code",
   "execution_count": 61,
   "id": "029acbf0-4261-41b0-a139-bc8b3f5adc53",
   "metadata": {},
   "outputs": [
    {
     "ename": "TypeError",
     "evalue": "test8() missing 1 required positional argument: 'a'",
     "output_type": "error",
     "traceback": [
      "\u001b[0;31m---------------------------------------------------------------------------\u001b[0m",
      "\u001b[0;31mTypeError\u001b[0m                                 Traceback (most recent call last)",
      "Cell \u001b[0;32mIn[61], line 1\u001b[0m\n\u001b[0;32m----> 1\u001b[0m \u001b[43mtest8\u001b[49m\u001b[43m(\u001b[49m\u001b[43m)\u001b[49m\n",
      "\u001b[0;31mTypeError\u001b[0m: test8() missing 1 required positional argument: 'a'"
     ]
    }
   ],
   "source": [
    "test8()"
   ]
  },
  {
   "cell_type": "code",
   "execution_count": 64,
   "id": "78a675df-1e1d-4a06-9a4c-0bafa16b30fc",
   "metadata": {},
   "outputs": [],
   "source": [
    "def test9(a,b):\n",
    "    return a+b\n",
    "    "
   ]
  },
  {
   "cell_type": "code",
   "execution_count": 65,
   "id": "7355f546-6b58-4e59-ad22-502789f5108a",
   "metadata": {},
   "outputs": [],
   "source": [
    "def test10(*args):\n",
    "    return args"
   ]
  },
  {
   "cell_type": "code",
   "execution_count": 66,
   "id": "adba9602-abae-4e15-939c-af57de369b38",
   "metadata": {},
   "outputs": [
    {
     "data": {
      "text/plain": [
       "tuple"
      ]
     },
     "execution_count": 66,
     "metadata": {},
     "output_type": "execute_result"
    }
   ],
   "source": [
    "type(test10())"
   ]
  },
  {
   "cell_type": "code",
   "execution_count": 67,
   "id": "4f3dbcbf-d5c0-4ff4-891d-6b9b8334832f",
   "metadata": {},
   "outputs": [
    {
     "data": {
      "text/plain": [
       "(1, 3, 4)"
      ]
     },
     "execution_count": 67,
     "metadata": {},
     "output_type": "execute_result"
    }
   ],
   "source": [
    "test10(1,3,4)"
   ]
  },
  {
   "cell_type": "code",
   "execution_count": 68,
   "id": "140fa84c-af17-43f8-9a28-ad623fa9f6f0",
   "metadata": {},
   "outputs": [
    {
     "data": {
      "text/plain": [
       "([23, 4, 23, 3, 'Mithi', 'kumar', [2, 3, 4, 1, 5]],)"
      ]
     },
     "execution_count": 68,
     "metadata": {},
     "output_type": "execute_result"
    }
   ],
   "source": [
    "test10([23, 4, 23, 3, 'Mithi', 'kumar', [2, 3, 4, 1, 5]])"
   ]
  },
  {
   "cell_type": "code",
   "execution_count": 69,
   "id": "fa72bcc4-b01c-49b4-847a-1954e7cab322",
   "metadata": {},
   "outputs": [],
   "source": [
    "def test11(*mithi):\n",
    "    return mithi"
   ]
  },
  {
   "cell_type": "code",
   "execution_count": 70,
   "id": "166c2a1c-4e67-4018-add0-63d1506dce71",
   "metadata": {},
   "outputs": [
    {
     "data": {
      "text/plain": [
       "(1, 2, 3, 40)"
      ]
     },
     "execution_count": 70,
     "metadata": {},
     "output_type": "execute_result"
    }
   ],
   "source": [
    "test11(1,2,3,40)"
   ]
  },
  {
   "cell_type": "code",
   "execution_count": 73,
   "id": "c6e4b9f8-ed82-4f4a-b389-4574799a1bb7",
   "metadata": {},
   "outputs": [],
   "source": [
    "def test12(*args,b):\n",
    "    return args,b"
   ]
  },
  {
   "cell_type": "code",
   "execution_count": 74,
   "id": "201030bd-5fc6-41a4-bf5b-0868a45e7d3f",
   "metadata": {},
   "outputs": [
    {
     "ename": "TypeError",
     "evalue": "test12() missing 1 required keyword-only argument: 'b'",
     "output_type": "error",
     "traceback": [
      "\u001b[0;31m---------------------------------------------------------------------------\u001b[0m",
      "\u001b[0;31mTypeError\u001b[0m                                 Traceback (most recent call last)",
      "Cell \u001b[0;32mIn[74], line 1\u001b[0m\n\u001b[0;32m----> 1\u001b[0m \u001b[43mtest12\u001b[49m\u001b[43m(\u001b[49m\u001b[38;5;241;43m12\u001b[39;49m\u001b[43m,\u001b[49m\u001b[38;5;241;43m3\u001b[39;49m\u001b[43m,\u001b[49m\u001b[38;5;241;43m42\u001b[39;49m\u001b[43m,\u001b[49m\u001b[38;5;241;43m2\u001b[39;49m\u001b[43m)\u001b[49m\n",
      "\u001b[0;31mTypeError\u001b[0m: test12() missing 1 required keyword-only argument: 'b'"
     ]
    }
   ],
   "source": [
    "test12(12,3,42,2)"
   ]
  },
  {
   "cell_type": "code",
   "execution_count": 75,
   "id": "ab340d6b-6397-43cd-882b-c12f7a5d5e84",
   "metadata": {},
   "outputs": [
    {
     "data": {
      "text/plain": [
       "((12, 3, 42, 2), 234)"
      ]
     },
     "execution_count": 75,
     "metadata": {},
     "output_type": "execute_result"
    }
   ],
   "source": [
    "test12(12,3,42,2,b=234)"
   ]
  },
  {
   "cell_type": "code",
   "execution_count": 76,
   "id": "e26255ae-5dc2-440b-9c85-d70d87fecc55",
   "metadata": {},
   "outputs": [],
   "source": [
    "def test13(c,d,a=2,b=1):\n",
    "    return a,b,c,d"
   ]
  },
  {
   "cell_type": "code",
   "execution_count": 78,
   "id": "f69e92f5-6ff6-43bd-81e3-d56f72470b98",
   "metadata": {},
   "outputs": [
    {
     "ename": "TypeError",
     "evalue": "test13() missing 2 required positional arguments: 'c' and 'd'",
     "output_type": "error",
     "traceback": [
      "\u001b[0;31m---------------------------------------------------------------------------\u001b[0m",
      "\u001b[0;31mTypeError\u001b[0m                                 Traceback (most recent call last)",
      "Cell \u001b[0;32mIn[78], line 1\u001b[0m\n\u001b[0;32m----> 1\u001b[0m \u001b[43mtest13\u001b[49m\u001b[43m(\u001b[49m\u001b[43m)\u001b[49m\n",
      "\u001b[0;31mTypeError\u001b[0m: test13() missing 2 required positional arguments: 'c' and 'd'"
     ]
    }
   ],
   "source": [
    "test13()"
   ]
  },
  {
   "cell_type": "code",
   "execution_count": 79,
   "id": "bf9a6cf3-632f-4201-b0cf-ec0a28651203",
   "metadata": {},
   "outputs": [
    {
     "data": {
      "text/plain": [
       "(2, 1, 2, 3)"
      ]
     },
     "execution_count": 79,
     "metadata": {},
     "output_type": "execute_result"
    }
   ],
   "source": [
    "test13(2,3)"
   ]
  },
  {
   "cell_type": "code",
   "execution_count": 80,
   "id": "80470517-d58e-4692-ab4d-adf721003258",
   "metadata": {},
   "outputs": [
    {
     "data": {
      "text/plain": [
       "(233, 1, 2, 4)"
      ]
     },
     "execution_count": 80,
     "metadata": {},
     "output_type": "execute_result"
    }
   ],
   "source": [
    "test13(2,4,a=233)"
   ]
  },
  {
   "cell_type": "code",
   "execution_count": 81,
   "id": "8b8d5a2e-2f6e-4a3d-9bf6-488586e19347",
   "metadata": {},
   "outputs": [],
   "source": [
    "def test14(**keys):\n",
    "    return keys"
   ]
  },
  {
   "cell_type": "code",
   "execution_count": 82,
   "id": "91817455-8a17-4945-8f05-fbd668eacb8c",
   "metadata": {},
   "outputs": [
    {
     "data": {
      "text/plain": [
       "{}"
      ]
     },
     "execution_count": 82,
     "metadata": {},
     "output_type": "execute_result"
    }
   ],
   "source": [
    "test14()"
   ]
  },
  {
   "cell_type": "code",
   "execution_count": 83,
   "id": "f8ff94e3-f6aa-409d-88ce-3dfe4f49aecc",
   "metadata": {},
   "outputs": [
    {
     "data": {
      "text/plain": [
       "dict"
      ]
     },
     "execution_count": 83,
     "metadata": {},
     "output_type": "execute_result"
    }
   ],
   "source": [
    "type(test14())"
   ]
  },
  {
   "cell_type": "code",
   "execution_count": 84,
   "id": "a5038d80-e006-43c7-8dfd-b01d9b4fe0a6",
   "metadata": {},
   "outputs": [
    {
     "data": {
      "text/plain": [
       "{'a': [1, 2, 3, 4], 'b': 'Mithilesh', 'c': 'jaiswal', 'd': 23.43}"
      ]
     },
     "execution_count": 84,
     "metadata": {},
     "output_type": "execute_result"
    }
   ],
   "source": [
    "test14(a=[1,2,3,4],b=\"Mithilesh\",c=\"jaiswal\",d=23.43)\n",
    "    "
   ]
  },
  {
   "cell_type": "code",
   "execution_count": null,
   "id": "1113cf1a-1d04-44a0-8c0d-fe293fdde16d",
   "metadata": {},
   "outputs": [],
   "source": []
  }
 ],
 "metadata": {
  "kernelspec": {
   "display_name": "Python 3 (ipykernel)",
   "language": "python",
   "name": "python3"
  },
  "language_info": {
   "codemirror_mode": {
    "name": "ipython",
    "version": 3
   },
   "file_extension": ".py",
   "mimetype": "text/x-python",
   "name": "python",
   "nbconvert_exporter": "python",
   "pygments_lexer": "ipython3",
   "version": "3.10.8"
  }
 },
 "nbformat": 4,
 "nbformat_minor": 5
}
