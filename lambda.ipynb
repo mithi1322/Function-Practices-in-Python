{
 "cells": [
  {
   "cell_type": "code",
   "execution_count": 1,
   "id": "e5025fee-9af1-41b6-865b-8f35070966ab",
   "metadata": {},
   "outputs": [],
   "source": [
    "a=2\n",
    "b=3"
   ]
  },
  {
   "cell_type": "code",
   "execution_count": 2,
   "id": "7e2ab3a0-e284-4ae0-9f32-a0d88e0abd93",
   "metadata": {},
   "outputs": [],
   "source": [
    "def multi(a,b):\n",
    "    return a*b"
   ]
  },
  {
   "cell_type": "code",
   "execution_count": 3,
   "id": "c58a16c5-205d-410a-a1a5-70cb763d2466",
   "metadata": {},
   "outputs": [
    {
     "data": {
      "text/plain": [
       "12"
      ]
     },
     "execution_count": 3,
     "metadata": {},
     "output_type": "execute_result"
    }
   ],
   "source": [
    "multi(4,3)"
   ]
  },
  {
   "cell_type": "code",
   "execution_count": 4,
   "id": "fff4b875-e519-48c7-bf54-94405af9b670",
   "metadata": {},
   "outputs": [],
   "source": [
    "l=lambda a,b:a*b"
   ]
  },
  {
   "cell_type": "code",
   "execution_count": 6,
   "id": "4f2e0fbd-4c79-483c-88bb-fd2d7c19f763",
   "metadata": {},
   "outputs": [
    {
     "data": {
      "text/plain": [
       "12"
      ]
     },
     "execution_count": 6,
     "metadata": {},
     "output_type": "execute_result"
    }
   ],
   "source": [
    "l(4,3)"
   ]
  },
  {
   "cell_type": "code",
   "execution_count": 7,
   "id": "464e7f13-5414-44cc-9dab-4eeff67fd5cb",
   "metadata": {},
   "outputs": [],
   "source": [
    "add=lambda x,y:x+y"
   ]
  },
  {
   "cell_type": "code",
   "execution_count": 8,
   "id": "c21a5c5d-5210-4407-b111-3a15d5bddfa9",
   "metadata": {},
   "outputs": [
    {
     "data": {
      "text/plain": [
       "7"
      ]
     },
     "execution_count": 8,
     "metadata": {},
     "output_type": "execute_result"
    }
   ],
   "source": [
    "add(4,3)"
   ]
  },
  {
   "cell_type": "code",
   "execution_count": 9,
   "id": "3cb4ef4c-dcd8-45e1-8d40-9342f04cf66a",
   "metadata": {},
   "outputs": [],
   "source": [
    "c_to_f=lambda c:(9/5)*c+32"
   ]
  },
  {
   "cell_type": "code",
   "execution_count": 11,
   "id": "40e56664-ebfa-4245-9231-4359e56fe977",
   "metadata": {},
   "outputs": [
    {
     "data": {
      "text/plain": [
       "93.2"
      ]
     },
     "execution_count": 11,
     "metadata": {},
     "output_type": "execute_result"
    }
   ],
   "source": [
    "c_to_f(34)"
   ]
  },
  {
   "cell_type": "code",
   "execution_count": 12,
   "id": "c4ac394d-4eaa-4086-9787-056c863cfa37",
   "metadata": {},
   "outputs": [],
   "source": [
    "find_max=lambda x,y:x if x>y else y"
   ]
  },
  {
   "cell_type": "code",
   "execution_count": 13,
   "id": "c5a0f863-16ae-4836-b5d5-60bbbc66d9ff",
   "metadata": {},
   "outputs": [
    {
     "data": {
      "text/plain": [
       "42"
      ]
     },
     "execution_count": 13,
     "metadata": {},
     "output_type": "execute_result"
    }
   ],
   "source": [
    "find_max(13,42)"
   ]
  },
  {
   "cell_type": "code",
   "execution_count": 14,
   "id": "1296fad2-d144-4075-9fd7-625ed0ce7aac",
   "metadata": {},
   "outputs": [],
   "source": [
    "s=\"Mithilesh\""
   ]
  },
  {
   "cell_type": "code",
   "execution_count": 16,
   "id": "0f3d2d4c-e888-43a7-9bd1-f7197588441f",
   "metadata": {},
   "outputs": [],
   "source": [
    "find_len=lambda s:len(s)"
   ]
  },
  {
   "cell_type": "code",
   "execution_count": 17,
   "id": "915caaa4-4936-4c41-a12d-47a1c0b9d813",
   "metadata": {},
   "outputs": [
    {
     "data": {
      "text/plain": [
       "9"
      ]
     },
     "execution_count": 17,
     "metadata": {},
     "output_type": "execute_result"
    }
   ],
   "source": [
    "find_len(s)"
   ]
  },
  {
   "cell_type": "code",
   "execution_count": null,
   "id": "f2d6dcde-6b60-4a5d-89be-99d03e5f7b4b",
   "metadata": {},
   "outputs": [],
   "source": []
  }
 ],
 "metadata": {
  "kernelspec": {
   "display_name": "Python 3 (ipykernel)",
   "language": "python",
   "name": "python3"
  },
  "language_info": {
   "codemirror_mode": {
    "name": "ipython",
    "version": 3
   },
   "file_extension": ".py",
   "mimetype": "text/x-python",
   "name": "python",
   "nbconvert_exporter": "python",
   "pygments_lexer": "ipython3",
   "version": "3.10.8"
  }
 },
 "nbformat": 4,
 "nbformat_minor": 5
}
